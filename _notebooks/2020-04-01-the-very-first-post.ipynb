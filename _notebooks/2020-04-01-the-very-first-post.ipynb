{
 "cells": [
  {
   "cell_type": "markdown",
   "metadata": {},
   "source": [
    "# \"Emoji no GitHub Pages\"\n",
    "> \"Emoji e Markdown finalmente juntos!\"\n",
    "- toc: true\n",
    "- branch: master\n",
    "- badges: false\n",
    "- comments: true\n",
    "- categories: [fastpages, jupyter]\n",
    "- hide: false\n",
    "- search_exclude: false"
   ]
  },
  {
   "cell_type": "markdown",
   "metadata": {},
   "source": [
    "# Suporte para emoji no GitHub Pages\n",
    "\n",
    "## Com fast_template\n",
    "\n",
    "Quando criei este blog os emoji não apareciam corretamente no GitHub Pages, para que apareçam tive de acrescentar o `jemoji` à lista de plugins no ficheiro `_config.yml`. Obrigado ao [Arnie97](https://github.com/Arnie97) pela [dica](https://github.com/gettalong/kramdown/issues/351). \n",
    "\n",
    "Exemplo de um `_config.yml` para [fast_template](https://github.com/fastai/fast_template):\n",
    "\n",
    "```\n",
    "plugins:\n",
    "  - jekyll-feed\n",
    "  - jekyll-gist\n",
    "  - jekyll-octicons\n",
    "  - jekyll-github-metadata\n",
    "  - jemoji\n",
    "```\n",
    "\n",
    "## Com fastpages\n",
    "\n",
    "Entretanto fiz o upgrade para [fastpages](https://github.com/fastai/fastpages), e foi necessário:\n",
    "\n",
    "* adicionar o jemoji ao [_config.yml](https://raw.githubusercontent.com/zevarela/blog/master/_config.yml) \n",
    "* adicionar o jemoji ao [Gemfile](https://raw.githubusercontent.com/zevarela/blog/master/Gemfile)\n",
    "* make build\n"
   ]
  },
  {
   "cell_type": "markdown",
   "metadata": {},
   "source": [
    "# Listas de emoji\n",
    "\n",
    "* Utilizável no GitHub:  https://github.com/ikatyang/emoji-cheat-sheet/blob/master/README.md \n",
    "* Outras fontes: https://unicode.org/emoji/charts/full-emoji-list.html\n"
   ]
  }
 ],
 "metadata": {
  "kernelspec": {
   "display_name": "fastai2",
   "language": "python",
   "name": "fastai2"
  },
  "language_info": {
   "codemirror_mode": {
    "name": "ipython",
    "version": 3
   },
   "file_extension": ".py",
   "mimetype": "text/x-python",
   "name": "python",
   "nbconvert_exporter": "python",
   "pygments_lexer": "ipython3",
   "version": "3.6.10"
  }
 },
 "nbformat": 4,
 "nbformat_minor": 4
}
